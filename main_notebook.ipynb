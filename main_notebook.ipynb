{
 "cells": [
  {
   "cell_type": "markdown",
   "id": "302b2f86",
   "metadata": {},
   "source": [
    "# Project\n",
    "\n",
    "## Project Overview\n",
    "\n",
    "- [Data Preparation Notebook](library/data_preparation.ipynb)\n",
    "- [Data Exploration Notebook](library/data_exploration.ipynb)\n",
    "- [Modeling Notebook](library/modeling.ipynb)\n"
   ]
  }
 ],
 "metadata": {
  "kernelspec": {
   "display_name": "capstone",
   "language": "python",
   "name": "python3"
  },
  "language_info": {
   "name": "python",
   "version": "3.11.14"
  }
 },
 "nbformat": 4,
 "nbformat_minor": 5
}
