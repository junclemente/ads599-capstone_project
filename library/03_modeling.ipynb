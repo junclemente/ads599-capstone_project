{
 "cells": [
  {
   "cell_type": "markdown",
   "id": "4553be87",
   "metadata": {},
   "source": [
    "# Modeling\n"
   ]
  }
 ],
 "metadata": {
  "kernelspec": {
   "display_name": "capstone",
   "language": "python",
   "name": "python3"
  },
  "language_info": {
   "name": "python",
   "version": "3.11.14"
  }
 },
 "nbformat": 4,
 "nbformat_minor": 5
}
