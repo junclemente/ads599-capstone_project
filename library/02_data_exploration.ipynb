{
 "cells": [
  {
   "cell_type": "markdown",
   "id": "3635acff",
   "metadata": {},
   "source": [
    "# Data Exploration"
   ]
  }
 ],
 "metadata": {
  "kernelspec": {
   "display_name": "capstone",
   "language": "python",
   "name": "python3"
  },
  "language_info": {
   "name": "python",
   "version": "3.11.14"
  }
 },
 "nbformat": 4,
 "nbformat_minor": 5
}
