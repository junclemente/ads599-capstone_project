{
 "cells": [
  {
   "cell_type": "markdown",
   "id": "cf9a8229",
   "metadata": {},
   "source": [
    "# Data Preparation"
   ]
  }
 ],
 "metadata": {
  "kernelspec": {
   "display_name": "capstone",
   "language": "python",
   "name": "python3"
  },
  "language_info": {
   "name": "python",
   "version": "3.11.14"
  }
 },
 "nbformat": 4,
 "nbformat_minor": 5
}
